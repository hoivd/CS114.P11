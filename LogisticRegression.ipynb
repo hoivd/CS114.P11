{
 "cells": [
  {
   "cell_type": "code",
   "execution_count": 1,
   "id": "a9cb83ab",
   "metadata": {
    "execution": {
     "iopub.execute_input": "2025-01-22T10:45:38.141626Z",
     "iopub.status.busy": "2025-01-22T10:45:38.141299Z",
     "iopub.status.idle": "2025-01-22T10:46:04.942655Z",
     "shell.execute_reply": "2025-01-22T10:46:04.941557Z"
    },
    "papermill": {
     "duration": 26.807378,
     "end_time": "2025-01-22T10:46:04.944646",
     "exception": false,
     "start_time": "2025-01-22T10:45:38.137268",
     "status": "completed"
    },
    "tags": []
   },
   "outputs": [],
   "source": [
    "import os\n",
    "from tensorflow.keras import Input\n",
    "import re\n",
    "from sklearn.svm import SVC\n",
    "import csv\n",
    "import gc\n",
    "import pandas as pd\n",
    "from numba import cuda \n",
    "from tensorflow.keras import models, layers\n",
    "from tensorflow.keras.layers import LeakyReLU\n",
    "from tensorflow.keras.optimizers import Adam\n",
    "from tensorflow.keras.models import Sequential\n",
    "from tensorflow.keras.layers import Dense, Dropout, Flatten\n",
    "from tensorflow.keras.models import Model\n",
    "from sklearn.model_selection import KFold\n",
    "import torch\n",
    "from torchvision.transforms import ToTensor\n",
    "import cv2\n",
    "import torch\n",
    "from sklearn.cluster import DBSCAN\n",
    "from tensorflow.keras.utils import load_img, img_to_array\n",
    "import numpy as np\n",
    "import matplotlib.pyplot as plt\n",
    "from torchvision.transforms import ToTensor, Compose, Resize\n",
    "from math import ceil\n",
    "from tensorflow.keras.applications import MobileNet\n",
    "from PIL import Image, UnidentifiedImageError\n",
    "import tensorflow as tf\n",
    "from tensorflow.keras.applications import MobileNetV3Large\n",
    "from tensorflow.keras.applications.mobilenet_v3 import preprocess_input\n",
    "from PIL import Image\n",
    "from tensorflow.keras.preprocessing import image\n",
    "from tensorflow.keras.losses import sparse_categorical_crossentropy\n",
    "from tensorflow.keras.metrics import CategoricalAccuracy, AUC, Precision, Recall\n",
    "from tensorflow.keras.applications.mobilenet import preprocess_input\n",
    "from tensorflow.keras.layers import Flatten"
   ]
  },
  {
   "cell_type": "code",
   "execution_count": 2,
   "id": "c6cb4604",
   "metadata": {
    "_cell_guid": "b1076dfc-b9ad-4769-8c92-a6c4dae69d19",
    "_uuid": "8f2839f25d086af736a60e9eeb907d3b93b6e0e5",
    "execution": {
     "iopub.execute_input": "2025-01-22T10:46:04.950535Z",
     "iopub.status.busy": "2025-01-22T10:46:04.949987Z",
     "iopub.status.idle": "2025-01-22T10:46:54.981394Z",
     "shell.execute_reply": "2025-01-22T10:46:54.978340Z"
    },
    "papermill": {
     "duration": 50.040333,
     "end_time": "2025-01-22T10:46:54.987515",
     "exception": false,
     "start_time": "2025-01-22T10:46:04.947182",
     "status": "completed"
    },
    "tags": []
   },
   "outputs": [],
   "source": [
    "df_train = pd.read_pickle('/kaggle/input/extract-feature-train-5-fold/train_features_labels_fold_1.pkl')\n",
    "df_val = pd.read_pickle('/kaggle/input/extract-feature-val-5-fold/val_features_labels_fold_1.pkl')"
   ]
  },
  {
   "cell_type": "code",
   "execution_count": 3,
   "id": "9157ea98",
   "metadata": {
    "execution": {
     "iopub.execute_input": "2025-01-22T10:46:55.004764Z",
     "iopub.status.busy": "2025-01-22T10:46:55.004291Z",
     "iopub.status.idle": "2025-01-22T10:47:13.586728Z",
     "shell.execute_reply": "2025-01-22T10:47:13.585609Z"
    },
    "papermill": {
     "duration": 18.594498,
     "end_time": "2025-01-22T10:47:13.588874",
     "exception": false,
     "start_time": "2025-01-22T10:46:54.994376",
     "status": "completed"
    },
    "tags": []
   },
   "outputs": [],
   "source": [
    "import numpy as np\n",
    "from sklearn.metrics import accuracy_score\n",
    "from sklearn.linear_model import LogisticRegression\n",
    "from sklearn.neighbors import KNeighborsClassifier\n",
    "from sklearn.svm import SVC\n",
    "from sklearn.metrics import accuracy_score\n",
    "\n",
    "X_train = df_train['feature']\n",
    "y_train = df_train['label']\n",
    "X_test = df_val['feature']\n",
    "y_test = df_val['label']\n",
    "\n",
    "del df_train, df_val\n",
    "gc.collect()\n",
    "\n",
    "X_train = np.array(X_train)\n",
    "X_train = np.array([x.flatten() for x in X_train], dtype=np.float32)\n",
    "y_train = np.array(y_train).ravel()\n",
    "\n",
    "\n",
    "X_test = np.array(X_test)\n",
    "X_test = np.array([X.flatten() for X in X_test], dtype=np.float32)\n",
    "y_test = np.array(y_test).ravel()\n",
    "\n"
   ]
  },
  {
   "cell_type": "code",
   "execution_count": 4,
   "id": "5079a910",
   "metadata": {
    "execution": {
     "iopub.execute_input": "2025-01-22T10:47:13.595075Z",
     "iopub.status.busy": "2025-01-22T10:47:13.594604Z",
     "iopub.status.idle": "2025-01-22T11:25:01.473030Z",
     "shell.execute_reply": "2025-01-22T11:25:01.470810Z"
    },
    "papermill": {
     "duration": 2267.884096,
     "end_time": "2025-01-22T11:25:01.475626",
     "exception": false,
     "start_time": "2025-01-22T10:47:13.591530",
     "status": "completed"
    },
    "tags": []
   },
   "outputs": [
    {
     "name": "stderr",
     "output_type": "stream",
     "text": [
      "/usr/local/lib/python3.10/dist-packages/sklearn/linear_model/_logistic.py:458: ConvergenceWarning: lbfgs failed to converge (status=1):\n",
      "STOP: TOTAL NO. of ITERATIONS REACHED LIMIT.\n",
      "\n",
      "Increase the number of iterations (max_iter) or scale the data as shown in:\n",
      "    https://scikit-learn.org/stable/modules/preprocessing.html\n",
      "Please also refer to the documentation for alternative solver options:\n",
      "    https://scikit-learn.org/stable/modules/linear_model.html#logistic-regression\n",
      "  n_iter_i = _check_optimize_result(\n"
     ]
    },
    {
     "name": "stdout",
     "output_type": "stream",
     "text": [
      "Logistic Regression Accuracy: 0.5530258519388954\n"
     ]
    }
   ],
   "source": [
    "\n",
    "LR = LogisticRegression(max_iter=800, multi_class='multinomial', class_weight='balanced')\n",
    "LR.fit(X_train, y_train)\n",
    "LR_result = LR.predict(X_test)\n",
    "LR_score = accuracy_score(y_test, LR_result)\n",
    "print(f\"Logistic Regression Accuracy: {LR_score}\")\n",
    "\n"
   ]
  }
 ],
 "metadata": {
  "kaggle": {
   "accelerator": "none",
   "dataSources": [
    {
     "datasetId": 6437762,
     "sourceId": 10391368,
     "sourceType": "datasetVersion"
    },
    {
     "datasetId": 6525714,
     "sourceId": 10547065,
     "sourceType": "datasetVersion"
    },
    {
     "datasetId": 6439446,
     "sourceId": 10393522,
     "sourceType": "datasetVersion"
    },
    {
     "sourceId": 218725835,
     "sourceType": "kernelVersion"
    }
   ],
   "dockerImageVersionId": 30839,
   "isGpuEnabled": false,
   "isInternetEnabled": true,
   "language": "python",
   "sourceType": "notebook"
  },
  "kernelspec": {
   "display_name": "Python 3",
   "language": "python",
   "name": "python3"
  },
  "language_info": {
   "codemirror_mode": {
    "name": "ipython",
    "version": 3
   },
   "file_extension": ".py",
   "mimetype": "text/x-python",
   "name": "python",
   "nbconvert_exporter": "python",
   "pygments_lexer": "ipython3",
   "version": "3.10.12"
  },
  "papermill": {
   "default_parameters": {},
   "duration": 2369.226763,
   "end_time": "2025-01-22T11:25:04.654798",
   "environment_variables": {},
   "exception": null,
   "input_path": "__notebook__.ipynb",
   "output_path": "__notebook__.ipynb",
   "parameters": {},
   "start_time": "2025-01-22T10:45:35.428035",
   "version": "2.6.0"
  }
 },
 "nbformat": 4,
 "nbformat_minor": 5
}
