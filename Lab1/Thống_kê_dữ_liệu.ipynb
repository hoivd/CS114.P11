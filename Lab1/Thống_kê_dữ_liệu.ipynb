{
  "nbformat": 4,
  "nbformat_minor": 0,
  "metadata": {
    "colab": {
      "provenance": [],
      "authorship_tag": "ABX9TyOmfF1W/i2fgHyL8lo/lctX",
      "include_colab_link": true
    },
    "kernelspec": {
      "name": "python3",
      "display_name": "Python 3"
    },
    "language_info": {
      "name": "python"
    }
  },
  "cells": [
    {
      "cell_type": "markdown",
      "metadata": {
        "id": "view-in-github",
        "colab_type": "text"
      },
      "source": [
        "<a href=\"https://colab.research.google.com/github/hoidv/CS114.P11/blob/main/Th%E1%BB%91ng_k%C3%AA_d%E1%BB%AF_li%E1%BB%87u.ipynb\" target=\"_parent\"><img src=\"https://colab.research.google.com/assets/colab-badge.svg\" alt=\"Open In Colab\"/></a>"
      ]
    },
    {
      "cell_type": "code",
      "execution_count": 233,
      "metadata": {
        "colab": {
          "base_uri": "https://localhost:8080/"
        },
        "id": "sIUlCRctUHad",
        "outputId": "79844db9-7562-4bad-f8c4-0a1b9c86b58a"
      },
      "outputs": [
        {
          "output_type": "stream",
          "name": "stdout",
          "text": [
            "Drive already mounted at /content/drive; to attempt to forcibly remount, call drive.mount(\"/content/drive\", force_remount=True).\n"
          ]
        }
      ],
      "source": [
        "from google.colab import drive\n",
        "drive.mount('/content/drive')"
      ]
    },
    {
      "cell_type": "code",
      "source": [
        "import os\n",
        "import re\n",
        "import csv\n",
        "\n",
        "car_directory = \"/content/drive/MyDrive/Public\""
      ],
      "metadata": {
        "id": "bJZkg8JSa7pE"
      },
      "execution_count": 234,
      "outputs": []
    },
    {
      "cell_type": "code",
      "source": [
        "def check_valid_and_parse_filename(filename):\n",
        "    #Kiểm tra đuôi file\n",
        "    name, extension = os.path.splitext(filename)\n",
        "    if extension not in [\".jpg\", \".jpeg\", \".png\"]:\n",
        "        return None, None, None\n",
        "\n",
        "    #Tách theo dấu \".\"\n",
        "    parts = name.split(\".\")\n",
        "    if len(parts) == 3:\n",
        "        mssv_part, brand, order = parts[0], parts[1], parts[2]\n",
        "        contributions = mssv_part.split(\"-\")\n",
        "\n",
        "        #Kiểm tra kiểu dữ liệu mssv, stt\n",
        "        num_pattern = r\"^\\d+$\"\n",
        "        if re.match(num_pattern, order) == None:\n",
        "          return None, None, None\n",
        "        for contribute in contributions:\n",
        "          if re.match(num_pattern, contribute) == None:\n",
        "            return None, None, None\n",
        "\n",
        "        return contributions, brand, order\n",
        "    return None, None, None"
      ],
      "metadata": {
        "id": "eBAUl349Iq6X"
      },
      "execution_count": 235,
      "outputs": []
    },
    {
      "cell_type": "code",
      "source": [
        "from collections import defaultdict\n",
        "import re\n",
        "\n",
        "#Tạo dict lưu số lượng theo tất cả hiệu xe và theo từng hiệu xe\n",
        "student_totals = defaultdict(float)\n",
        "student_per_brand = defaultdict(lambda: defaultdict(float))\n",
        "cars_brand_set = ('Honda', 'Hyundai', 'KIA', 'Mazda', 'Mitsubishi', 'Suzuki', 'Toyota', 'VinFast')\n",
        "\n",
        "for car_brand in cars_brand_set:\n",
        "  brand_path = os.path.join(car_directory, car_brand)\n",
        "  for file in os.listdir(brand_path):\n",
        "      contributions, brand, order = check_valid_and_parse_filename(file)\n",
        "      if contributions != None:\n",
        "        #Kiểm tra brand trong tên file có giống theo định dạng brand trong thư mục không\n",
        "        brand_pattern = rf\"^{car_brand}$\"\n",
        "        match_brand = re.match(brand_pattern, brand)\n",
        "        if match_brand != None:\n",
        "          for mssv in contributions:\n",
        "            student_totals[mssv] += 1/len(contributions)\n",
        "            student_per_brand[mssv][brand] += 1/len(contributions)\n",
        ""
      ],
      "metadata": {
        "id": "x82ye4xuc3zN"
      },
      "execution_count": 236,
      "outputs": []
    },
    {
      "cell_type": "code",
      "source": [
        "with open(\"CarDataset-1.csv\", mode=\"w\", encoding=\"utf-8\") as file1:\n",
        "  writer = csv.writer(file1)\n",
        "  writer.writerow([\"MSSV\", \"HieuXe\", \"SoLuong\"])\n",
        "  for mssv, total in sorted(student_totals.items(), key=lambda x: x[1], reverse=True):\n",
        "    writer.writerow([mssv, \"All\", round(total, 2)])"
      ],
      "metadata": {
        "id": "jBGKEeR9IxcW"
      },
      "execution_count": 237,
      "outputs": []
    },
    {
      "cell_type": "code",
      "source": [
        "with open(\"CarDataset-2.csv\", mode=\"w\", encoding=\"utf-8\") as file2:\n",
        "  writer = csv.writer(file2)\n",
        "  writer.writerow([\"MSSV\", \"HieuXe\", \"SoLuong\"])\n",
        "  for mssv, brand in sorted(student_per_brand.items()):\n",
        "    for brand_name, total in sorted(brand.items(), key=lambda x: x[0]):\n",
        "      writer.writerow([mssv, brand_name, round(total, 2)])"
      ],
      "metadata": {
        "id": "2zE1cEkEM8Jp"
      },
      "execution_count": 238,
      "outputs": []
    }
  ]
}