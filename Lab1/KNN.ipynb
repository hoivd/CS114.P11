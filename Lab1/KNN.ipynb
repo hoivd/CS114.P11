{
 "cells": [
  {
   "cell_type": "code",
   "execution_count": 1,
   "id": "58f5c616",
   "metadata": {
    "execution": {
     "iopub.execute_input": "2025-01-22T10:45:38.144261Z",
     "iopub.status.busy": "2025-01-22T10:45:38.143758Z",
     "iopub.status.idle": "2025-01-22T10:46:07.004414Z",
     "shell.execute_reply": "2025-01-22T10:46:07.003280Z"
    },
    "papermill": {
     "duration": 28.867017,
     "end_time": "2025-01-22T10:46:07.006448",
     "exception": false,
     "start_time": "2025-01-22T10:45:38.139431",
     "status": "completed"
    },
    "tags": []
   },
   "outputs": [],
   "source": [
    "import os\n",
    "from tensorflow.keras import Input\n",
    "import re\n",
    "from sklearn.svm import SVC\n",
    "import csv\n",
    "import gc\n",
    "import pandas as pd\n",
    "from numba import cuda \n",
    "from tensorflow.keras import models, layers\n",
    "from tensorflow.keras.layers import LeakyReLU\n",
    "from tensorflow.keras.optimizers import Adam\n",
    "from tensorflow.keras.models import Sequential\n",
    "from tensorflow.keras.layers import Dense, Dropout, Flatten\n",
    "from tensorflow.keras.models import Model\n",
    "from sklearn.model_selection import KFold\n",
    "import torch\n",
    "from torchvision.transforms import ToTensor\n",
    "import cv2\n",
    "import torch\n",
    "from sklearn.cluster import DBSCAN\n",
    "from tensorflow.keras.utils import load_img, img_to_array\n",
    "import numpy as np\n",
    "import matplotlib.pyplot as plt\n",
    "from torchvision.transforms import ToTensor, Compose, Resize\n",
    "from math import ceil\n",
    "from tensorflow.keras.applications import MobileNet\n",
    "from PIL import Image, UnidentifiedImageError\n",
    "import tensorflow as tf\n",
    "from tensorflow.keras.applications import MobileNetV3Large\n",
    "from tensorflow.keras.applications.mobilenet_v3 import preprocess_input\n",
    "from PIL import Image\n",
    "from tensorflow.keras.preprocessing import image\n",
    "from tensorflow.keras.losses import sparse_categorical_crossentropy\n",
    "from tensorflow.keras.metrics import CategoricalAccuracy, AUC, Precision, Recall\n",
    "from tensorflow.keras.applications.mobilenet import preprocess_input\n",
    "from tensorflow.keras.layers import Flatten"
   ]
  },
  {
   "cell_type": "code",
   "execution_count": 2,
   "id": "9d031d8b",
   "metadata": {
    "_cell_guid": "b1076dfc-b9ad-4769-8c92-a6c4dae69d19",
    "_uuid": "8f2839f25d086af736a60e9eeb907d3b93b6e0e5",
    "execution": {
     "iopub.execute_input": "2025-01-22T10:46:07.013141Z",
     "iopub.status.busy": "2025-01-22T10:46:07.012513Z",
     "iopub.status.idle": "2025-01-22T10:46:52.185859Z",
     "shell.execute_reply": "2025-01-22T10:46:52.184537Z"
    },
    "papermill": {
     "duration": 45.178563,
     "end_time": "2025-01-22T10:46:52.187838",
     "exception": false,
     "start_time": "2025-01-22T10:46:07.009275",
     "status": "completed"
    },
    "tags": []
   },
   "outputs": [],
   "source": [
    "df_train = pd.read_pickle('/kaggle/input/extract-feature-train-5-fold/train_features_labels_fold_1.pkl')\n",
    "df_val = pd.read_pickle('/kaggle/input/extract-feature-val-5-fold/val_features_labels_fold_1.pkl')"
   ]
  },
  {
   "cell_type": "code",
   "execution_count": 3,
   "id": "07cd1f2e",
   "metadata": {
    "execution": {
     "iopub.execute_input": "2025-01-22T10:46:52.195297Z",
     "iopub.status.busy": "2025-01-22T10:46:52.194913Z",
     "iopub.status.idle": "2025-01-22T10:47:00.890990Z",
     "shell.execute_reply": "2025-01-22T10:47:00.890139Z"
    },
    "papermill": {
     "duration": 8.702547,
     "end_time": "2025-01-22T10:47:00.892897",
     "exception": false,
     "start_time": "2025-01-22T10:46:52.190350",
     "status": "completed"
    },
    "tags": []
   },
   "outputs": [],
   "source": [
    "import numpy as np\n",
    "from sklearn.metrics import accuracy_score\n",
    "from sklearn.linear_model import LogisticRegression\n",
    "from sklearn.neighbors import KNeighborsClassifier\n",
    "from sklearn.svm import SVC\n",
    "from sklearn.metrics import accuracy_score\n",
    "\n",
    "X_train = df_train['feature']\n",
    "y_train = df_train['label']\n",
    "X_test = df_val['feature']\n",
    "y_test = df_val['label']\n",
    "\n",
    "del df_train, df_val\n",
    "gc.collect()\n",
    "\n",
    "X_train = np.array(X_train)\n",
    "X_train = np.array([x.flatten() for x in X_train], dtype=np.float32)\n",
    "y_train = np.array(y_train).ravel()\n",
    "\n",
    "\n",
    "X_test = np.array(X_test)\n",
    "X_test = np.array([X.flatten() for X in X_test], dtype=np.float32)\n",
    "y_test = np.array(y_test).ravel()\n",
    "\n"
   ]
  },
  {
   "cell_type": "code",
   "execution_count": 4,
   "id": "8bca02ad",
   "metadata": {
    "execution": {
     "iopub.execute_input": "2025-01-22T10:47:00.898730Z",
     "iopub.status.busy": "2025-01-22T10:47:00.898402Z",
     "iopub.status.idle": "2025-01-22T10:52:02.350986Z",
     "shell.execute_reply": "2025-01-22T10:52:02.349162Z"
    },
    "papermill": {
     "duration": 301.464398,
     "end_time": "2025-01-22T10:52:02.359713",
     "exception": false,
     "start_time": "2025-01-22T10:47:00.895315",
     "status": "completed"
    },
    "tags": []
   },
   "outputs": [
    {
     "name": "stdout",
     "output_type": "stream",
     "text": [
      "KNN Accuracy: 0.425235017626322\n"
     ]
    }
   ],
   "source": [
    "\n",
    "# LR = LogisticRegression(max_iter=800, multi_class='multinomial', class_weight='balanced')\n",
    "# LR.fit(X_train, y_train)\n",
    "# LR_result = LR.predict(X_test)\n",
    "# LR_score = accuracy_score(y_test, LR_result)\n",
    "# print(f\"Logistic Regression Accuracy: {LR_score}\")\n",
    "\n",
    "knn = KNeighborsClassifier(n_neighbors=7,weights='distance')  # Sử dụng k=5 làm mặc định\n",
    "knn.fit(X_train, y_train)\n",
    "knn_result = knn.predict(X_test)\n",
    "knn_score = accuracy_score(y_test, knn_result)\n",
    "print(f\"KNN Accuracy: {knn_score}\")\n",
    "\n",
    "\n",
    "\n",
    "# score = {\n",
    "#     'LogisticRegression': LR_score,  # Điểm số của Logistic Regression từ trước\n",
    "#     'KNN': knn_score,\n",
    "# }"
   ]
  }
 ],
 "metadata": {
  "kaggle": {
   "accelerator": "none",
   "dataSources": [
    {
     "datasetId": 6437762,
     "sourceId": 10391368,
     "sourceType": "datasetVersion"
    },
    {
     "datasetId": 6525714,
     "sourceId": 10547065,
     "sourceType": "datasetVersion"
    },
    {
     "datasetId": 6439446,
     "sourceId": 10393522,
     "sourceType": "datasetVersion"
    },
    {
     "sourceId": 218725835,
     "sourceType": "kernelVersion"
    }
   ],
   "dockerImageVersionId": 30839,
   "isGpuEnabled": false,
   "isInternetEnabled": true,
   "language": "python",
   "sourceType": "notebook"
  },
  "kernelspec": {
   "display_name": "Python 3",
   "language": "python",
   "name": "python3"
  },
  "language_info": {
   "codemirror_mode": {
    "name": "ipython",
    "version": 3
   },
   "file_extension": ".py",
   "mimetype": "text/x-python",
   "name": "python",
   "nbconvert_exporter": "python",
   "pygments_lexer": "ipython3",
   "version": "3.10.12"
  },
  "papermill": {
   "default_parameters": {},
   "duration": 390.830141,
   "end_time": "2025-01-22T10:52:06.164686",
   "environment_variables": {},
   "exception": null,
   "input_path": "__notebook__.ipynb",
   "output_path": "__notebook__.ipynb",
   "parameters": {},
   "start_time": "2025-01-22T10:45:35.334545",
   "version": "2.6.0"
  }
 },
 "nbformat": 4,
 "nbformat_minor": 5
}
