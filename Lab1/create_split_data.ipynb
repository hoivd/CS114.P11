{
  "nbformat": 4,
  "nbformat_minor": 0,
  "metadata": {
    "colab": {
      "provenance": [],
      "authorship_tag": "ABX9TyOlvhLCcY6KXMqNmOWydyom",
      "include_colab_link": true
    },
    "kernelspec": {
      "name": "python3",
      "display_name": "Python 3"
    },
    "language_info": {
      "name": "python"
    }
  },
  "cells": [
    {
      "cell_type": "markdown",
      "metadata": {
        "id": "view-in-github",
        "colab_type": "text"
      },
      "source": [
        "<a href=\"https://colab.research.google.com/github/hoidv/CS114.P11/blob/main/create_split_data.ipynb\" target=\"_parent\"><img src=\"https://colab.research.google.com/assets/colab-badge.svg\" alt=\"Open In Colab\"/></a>"
      ]
    },
    {
      "cell_type": "code",
      "source": [
        "from google.colab import drive\n",
        "drive.mount('/content/drive')"
      ],
      "metadata": {
        "colab": {
          "base_uri": "https://localhost:8080/"
        },
        "id": "UyH6UkVaTEej",
        "outputId": "6b06b53f-2fb3-4641-d5b1-6ee439e77b23"
      },
      "execution_count": 2,
      "outputs": [
        {
          "output_type": "stream",
          "name": "stdout",
          "text": [
            "Mounted at /content/drive\n"
          ]
        }
      ]
    },
    {
      "cell_type": "code",
      "source": [
        "def check_valid_and_parse_filename(filename):\n",
        "    #Kiểm tra đuôi file\n",
        "    name, extension = os.path.splitext(filename)\n",
        "    if extension not in [\".jpg\", \".jpeg\", \".png\"]:\n",
        "        return None, None, None\n",
        "\n",
        "    #Tách theo dấu \".\"\n",
        "    parts = name.split(\".\")\n",
        "    if len(parts) == 3:\n",
        "        mssv_part, brand, order = parts[0], parts[1], parts[2]\n",
        "        contributions = mssv_part.split(\"-\")\n",
        "\n",
        "        #Kiểm tra kiểu dữ liệu mssv, stt\n",
        "        num_pattern = r\"^\\d+$\"\n",
        "        if re.match(num_pattern, order) == None:\n",
        "          return None, None, None\n",
        "        for contribute in contributions:\n",
        "          if re.match(num_pattern, contribute) == None:\n",
        "            return None, None, None\n",
        "\n",
        "        return contributions, brand, order\n",
        "    return None, None, None"
      ],
      "metadata": {
        "id": "t788nStoFJ4f"
      },
      "execution_count": 67,
      "outputs": []
    },
    {
      "cell_type": "code",
      "source": [
        "import csv\n",
        "import re\n",
        "\n",
        "def generate_data_to_csv(data_path, save_path, csv_name):\n",
        "  car_brands = {'Others': 0, 'Honda' : 1, 'Hyundai' : 2,\n",
        "                    'KIA' : 3, 'Mazda' : 4, 'Mitsubishi' : 5,\n",
        "                    'Suzuki' : 6, 'Toyota' : 7, 'VinFast': 8}\n",
        "\n",
        "  #Mờ file csv để ghi data\n",
        "  file_path = os.path.join(save_path, csv_name)\n",
        "  with open(file_path, mode='w', newline='', encoding='utf-8') as file:\n",
        "    writer = csv.writer(file)\n",
        "    writer.writerow([\"Path\", \"CategoryID\"])\n",
        "\n",
        "    #Duyệt qua mỗi brand car\n",
        "    for brand, brand_id in cars_brands.items():\n",
        "      brand_path = os.path.join(data_path, brand)\n",
        "\n",
        "      #Duyệt qua từng file trong thư mục brand\n",
        "      for file_name in os.listdir(brand_path):\n",
        "          contributions, parsed_brand, order = check_valid_and_parse_filename(file_name)\n",
        "\n",
        "          #Kiểm tra file_name hợp lệ và brand của file_name có giống brand thư mục không\n",
        "          if contributions != None:\n",
        "            if parsed_brand == brand:\n",
        "              writer.writerow([f\"{brand}/{file_name}\", brand_id])"
      ],
      "metadata": {
        "id": "jnzV3NFoNIm4"
      },
      "execution_count": 77,
      "outputs": []
    },
    {
      "cell_type": "code",
      "source": [
        "import pandas as pd\n",
        "import os\n",
        "from sklearn.model_selection import KFold\n",
        "\n",
        "def KFold_and_generate_csv(data, save_path, n_splits=5, random_sate=42):\n",
        "  car_brands = {'Others': 0, 'Honda' : 1, 'Hyundai' : 2,\n",
        "                      'KIA' : 3, 'Mazda' : 4, 'Mitsubishi' : 5,\n",
        "                      'Suzuki' : 6, 'Toyota' : 7, 'VinFast': 8}\n",
        "\n",
        "  #GroupBy data theo từng brand\n",
        "  car_groups_df = car_df.groupby('CategoryID')\n",
        "\n",
        "  #Cài đặt KFold\n",
        "  kf = KFold(n_splits=n_splits, shuffle=True, random_state=42)\n",
        "\n",
        "  #Tạo list X_train và X_val cho từng fold\n",
        "  X_train = [{} for _ in range(5)]\n",
        "  X_val = [{} for _ in range(5)]\n",
        "\n",
        "  #Duyệt qua từng hãng xe tạo fold cho từng hiệu xe\n",
        "  for brand_id, brand_data in car_groups_df:\n",
        "    for fold_id, (train_index, val_index) in enumerate(kf.split(brand_data)):\n",
        "      X_train[fold_id][brand_id] = train_index\n",
        "      X_val[fold_id][brand_id] = val_index\n",
        "\n",
        "  #Hàm lưu fold data\n",
        "  def save_split_data(save_path, indices_by_brand, fold_id, dataset_type):\n",
        "    #Chuyển dict df các brand thành list các df và ghép thành một df\n",
        "    split_df = [brand_data.iloc[indices_by_brand[brand_id]] for brand_id, brand_data in car_groups_df]\n",
        "    concate_df = pd.concat(split_df, ignore_index=True)\n",
        "\n",
        "    #Nối file_path và tiến hành lưu file\n",
        "    file_path = os.path.join(save_path, f\"CarDataset-Splits-{fold_id+1}-{dataset_type}.csv\")\n",
        "    concate_df.to_csv(file_path, index=False)\n",
        "\n",
        "  for fold_id in range(5):\n",
        "\n",
        "    #Lưu file CarDataset_train\n",
        "    train_indices_for_brand = X_train[fold_id]\n",
        "    save_split_data(save_path, train_indices_for_brand, fold_id, dataset_type='train')\n",
        "\n",
        "    #Lưu file CarDataset_val\n",
        "    val_indices_for_brand = X_val[fold_id]\n",
        "    save_split_data(save_path, val_indices_for_brand, fold_id, dataset_type='val')"
      ],
      "metadata": {
        "id": "RTUvzVNeYFvw"
      },
      "execution_count": 75,
      "outputs": []
    },
    {
      "cell_type": "code",
      "source": [
        "import os\n",
        "\n",
        "root_directory = '/content/drive/MyDrive/Colab Notebooks'\n",
        "os.makedirs(root_directory, exist_ok=True)\n",
        "save_path = os.path.join(root_directory, 'data')\n",
        "\n",
        "data_path = '/content/drive/MyDrive/Public'\n",
        "data_file_name = 'CarDataset.csv'\n",
        "generate_data_to_csv(data_path, save_path, data_file_name)\n",
        "\n",
        "cars_data = pd.read_csv(save_path + f'/{data_file_name}')\n",
        "print(cars_data.head())\n",
        "KFold_and_generate_csv(save_path, save_path)"
      ],
      "metadata": {
        "colab": {
          "base_uri": "https://localhost:8080/"
        },
        "id": "5ef-13pcUMMQ",
        "outputId": "7230bdaf-5f3a-4ec6-faf5-406a9d73b0a1"
      },
      "execution_count": 81,
      "outputs": [
        {
          "output_type": "stream",
          "name": "stdout",
          "text": [
            "                                      Path  CategoryID\n",
            "0  Others/22521070-22520211.Others.263.jpg           0\n",
            "1  Others/22521070-22520211.Others.268.jpg           0\n",
            "2  Others/22521070-22520211.Others.267.jpg           0\n",
            "3  Others/22521070-22520211.Others.272.jpg           0\n",
            "4  Others/22521070-22520211.Others.271.jpg           0\n"
          ]
        }
      ]
    }
  ]
}